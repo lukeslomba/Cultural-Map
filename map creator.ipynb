{
 "cells": [
  {
   "cell_type": "code",
   "execution_count": 4,
   "metadata": {},
   "outputs": [],
   "source": [
    "import requests\n",
    "import folium\n",
    "import pandas as pd\n",
    "from geopy.geocoders import Nominatim\n",
    "from flask import Flask\n",
    "\n",
    "base_map = folium.Map(location=[41.26, -72.95], zoom_start=14)\n",
    "\n",
    "url = 'https://docs.google.com/spreadsheets/d/1EyIJRnLrWkeAJuxLVBxO2eSBMfKiQ2aHYLS3PLvQLLs/export?format=csv'\n",
    "r = requests.get(url, allow_redirects=True)\n",
    "\n",
    "open('responses.csv', 'wb').write(r.content)\n",
    "\n",
    "response_df = pd.read_csv(\"responses.csv\")\n",
    "\n",
    "geolocator = Nominatim(user_agent=\"Luke's mapping app\", timeout=2)\n",
    "\n",
    "lat_list = []\n",
    "long_list = []\n",
    "\n",
    "for address in response_df['Location']:\n",
    "    geo = geolocator.geocode(address)\n",
    "    lat = geo.latitude\n",
    "    long = geo.longitude\n",
    "    lat_list.append(lat)\n",
    "    long_list.append(long)\n",
    "    \n",
    "response_df['Latitude'] = lat_list\n",
    "response_df['Longitude'] = long_list\n",
    "\n",
    "for index, row in response_df.iterrows():\n",
    "    \n",
    "    caption_info = row['Name'] + \"<br> - Category: \" + row['Category'] + \"<br> - Type: \" + row['Type']+\"<br> - Location: \" + row['Location'] + \"<br> - Notes:\" + row['Notes'] \n",
    "    \n",
    "    folium.CircleMarker(\n",
    "                # Latitude, longitude for each marker\n",
    "                location=[row['Latitude'], row['Longitude']],\n",
    "        \n",
    "                # Size, fill, color of the circle marker\n",
    "                radius = 10, fill=True, color='orange', #(row['FY18.Max.Population.Count']+1)/25, fill = True, color='orange',\n",
    "        \n",
    "                # Text that goes into the popup or tooltip\n",
    "                tooltip = caption_info \n",
    "                  \n",
    "                 ).add_to(base_map)\n",
    "\n",
    "html = base_map._repr_html_()\n",
    "\n",
    "file = open(\"index.html\",\"w\")\n",
    "file.write(html)\n",
    "file.close()"
   ]
  },
  {
   "cell_type": "code",
   "execution_count": null,
   "metadata": {},
   "outputs": [],
   "source": []
  }
 ],
 "metadata": {
  "kernelspec": {
   "display_name": "Python 3",
   "language": "python",
   "name": "python3"
  },
  "language_info": {
   "codemirror_mode": {
    "name": "ipython",
    "version": 3
   },
   "file_extension": ".py",
   "mimetype": "text/x-python",
   "name": "python",
   "nbconvert_exporter": "python",
   "pygments_lexer": "ipython3",
   "version": "3.8.5"
  }
 },
 "nbformat": 4,
 "nbformat_minor": 4
}

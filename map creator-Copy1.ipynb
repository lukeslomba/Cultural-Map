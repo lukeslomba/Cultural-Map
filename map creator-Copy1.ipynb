{
 "cells": [
  {
   "cell_type": "code",
   "execution_count": 27,
   "metadata": {},
   "outputs": [
    {
     "name": "stdout",
     "output_type": "stream",
     "text": [
      "18 4th ave, west haven ct\n",
      "18, 4th Avenue, West Haven, New Haven County, Connecticut, 06516, United States\n",
      "379 union ave, west haven ct\n",
      "379, Union Avenue, West Haven, New Haven County, Connecticut, 06516, United States\n",
      "500 orange ave, west haven ct\n",
      "500, Orange Avenue, Allingtown, West Haven, New Haven County, Connecticut, 06516, United States\n",
      "Visual Arts, Film, TV, Media, Technology (gaming, web<br> design...), Graphic Design/Printmaking\n",
      "           Timestamp   Name  \\\n",
      "0  7/5/2021 17:24:23  mom's   \n",
      "1  7/5/2021 17:24:51  dad's   \n",
      "2  7/5/2021 20:00:41  ESUMS   \n",
      "\n",
      "                              Category - What is it?                   Type  \\\n",
      "0         Literary Arts, Architecture, Culinary Arts      Performance Venue   \n",
      "1  Visual Arts, Film, TV, Media, Technology (gami...  Landmark/Public Space   \n",
      "2                 Technology (gaming, web design...)       School/Education   \n",
      "\n",
      "                        Location      Notes  Explain \"Other,\" if selected  \\\n",
      "0      18 4th ave, west haven ct     asdfgf                           NaN   \n",
      "1   379 union ave, west haven ct       htds                           NaN   \n",
      "2  500 orange ave, west haven ct  my school                           NaN   \n",
      "\n",
      "   Unnamed: 7  Explain \"Other,\" if selected.1  Unnamed: 9  \\\n",
      "0         NaN                             NaN         NaN   \n",
      "1         NaN                             NaN         NaN   \n",
      "2         NaN                             NaN         NaN   \n",
      "\n",
      "   Upload an image of this place, activity, or brand (optional - legal photos only please. ArtsWestCT may choose to publish for educational, non-commercial purposes but is under no obligation to do so.)  \\\n",
      "0                                                NaN                                                                                                                                                         \n",
      "1                                                NaN                                                                                                                                                         \n",
      "2                                                NaN                                                                                                                                                         \n",
      "\n",
      "   Name (first and last)   Address (please be a current West Haven resident)  \\\n",
      "0                     NaN                                                NaN   \n",
      "1                     NaN                                                NaN   \n",
      "2                     NaN                                                NaN   \n",
      "\n",
      "   Preferred form of contact (text or email)  Email Address  \n",
      "0                                        NaN            NaN  \n",
      "1                                        NaN            NaN  \n",
      "2                                        NaN            NaN  \n"
     ]
    }
   ],
   "source": [
    "import requests\n",
    "import folium\n",
    "import pandas as pd\n",
    "from geopy.geocoders import Nominatim\n",
    "from flask import Flask\n",
    "\n",
    "base_map = folium.Map(location=[41.26, -72.95], zoom_start=13.3)\n",
    "\n",
    "url = 'https://docs.google.com/spreadsheets/d/1EyIJRnLrWkeAJuxLVBxO2eSBMfKiQ2aHYLS3PLvQLLs/export?format=csv'\n",
    "r = requests.get(url, allow_redirects=True)\n",
    "\n",
    "open('responses.csv', 'wb').write(r.content)\n",
    "\n",
    "response_df = pd.read_csv(\"responses.csv\")\n",
    "\n",
    "geolocator = Nominatim(user_agent=\"Luke's mapping app\", timeout=2)\n",
    "\n",
    "lat_list = []\n",
    "long_list = []\n",
    "add_list = []\n",
    "\n",
    "for address in response_df['Location']:\n",
    "    print(address)\n",
    "    geo = geolocator.geocode(address)\n",
    "    print(geo)\n",
    "    lat = geo.latitude\n",
    "    long = geo.longitude\n",
    "    lat_list.append(lat)\n",
    "    long_list.append(long)\n",
    "    add_list.append(geo)\n",
    "    \n",
    "#break up large lines\n",
    "    \n",
    "for (columnName, columnData) in response_df.iteritems():\n",
    "    for row in range(len(columnData)):\n",
    "        cell = str(columnData.iloc[row])\n",
    "        count = 0\n",
    "        overall_count = 0\n",
    "        for char in cell:\n",
    "            if count >= 50 and char == ' ':\n",
    "                newstring = cell[:overall_count] + '<br>' + cell[overall_count:]\n",
    "                response_df.at[row, columnName] = newstring\n",
    "                cell = newstring\n",
    "                count = 0\n",
    "            count +=1\n",
    "            overall_count += 1\n",
    "    \n",
    "response_df['Latitude'] = lat_list\n",
    "response_df['Longitude'] = long_list\n",
    "response_df['Geolocated address'] = add_list\n",
    "\n",
    "for index, row in response_df.iterrows():\n",
    "    \n",
    "    caption_info = f\"<b>{row['Name']}</b> <br> <b>Category:</b> {row['Category - What is it?']} <br><b>Type:</b> {row['Type']} <br><b>Location:</b> {row['Location']} <br><b>Notes:</b> {row['Notes']}\" \n",
    "    \n",
    "    folium.CircleMarker(\n",
    "                # Latitude, longitude for each marker\n",
    "                location=[row['Latitude'], row['Longitude']],\n",
    "        \n",
    "                # Size, fill, color of the circle marker\n",
    "                radius = 10, fill=True, color='orange', #(row['FY18.Max.Population.Count']+1)/25, fill = True, color='orange',\n",
    "        \n",
    "                # Text that goes into the popup or tooltip\n",
    "                tooltip = caption_info \n",
    "                  \n",
    "                 ).add_to(base_map)\n",
    "\n",
    "html = base_map._repr_html_()\n",
    "\n",
    "file = open(\"index.html\",\"w\")\n",
    "file.write(html)\n",
    "file.close()"
   ]
  },
  {
   "cell_type": "code",
   "execution_count": 28,
   "metadata": {},
   "outputs": [
    {
     "data": {
      "text/html": [
       "<div style=\"width:100%;\"><div style=\"position:relative;width:100%;height:0;padding-bottom:60%;\"><span style=\"color:#565656\">Make this Notebook Trusted to load map: File -> Trust Notebook</span><iframe src=\"about:blank\" style=\"position:absolute;width:100%;height:100%;left:0;top:0;border:none !important;\" data-html=%3C%21DOCTYPE%20html%3E%0A%3Chead%3E%20%20%20%20%0A%20%20%20%20%3Cmeta%20http-equiv%3D%22content-type%22%20content%3D%22text/html%3B%20charset%3DUTF-8%22%20/%3E%0A%20%20%20%20%0A%20%20%20%20%20%20%20%20%3Cscript%3E%0A%20%20%20%20%20%20%20%20%20%20%20%20L_NO_TOUCH%20%3D%20false%3B%0A%20%20%20%20%20%20%20%20%20%20%20%20L_DISABLE_3D%20%3D%20false%3B%0A%20%20%20%20%20%20%20%20%3C/script%3E%0A%20%20%20%20%0A%20%20%20%20%3Cstyle%3Ehtml%2C%20body%20%7Bwidth%3A%20100%25%3Bheight%3A%20100%25%3Bmargin%3A%200%3Bpadding%3A%200%3B%7D%3C/style%3E%0A%20%20%20%20%3Cstyle%3E%23map%20%7Bposition%3Aabsolute%3Btop%3A0%3Bbottom%3A0%3Bright%3A0%3Bleft%3A0%3B%7D%3C/style%3E%0A%20%20%20%20%3Cscript%20src%3D%22https%3A//cdn.jsdelivr.net/npm/leaflet%401.6.0/dist/leaflet.js%22%3E%3C/script%3E%0A%20%20%20%20%3Cscript%20src%3D%22https%3A//code.jquery.com/jquery-1.12.4.min.js%22%3E%3C/script%3E%0A%20%20%20%20%3Cscript%20src%3D%22https%3A//maxcdn.bootstrapcdn.com/bootstrap/3.2.0/js/bootstrap.min.js%22%3E%3C/script%3E%0A%20%20%20%20%3Cscript%20src%3D%22https%3A//cdnjs.cloudflare.com/ajax/libs/Leaflet.awesome-markers/2.0.2/leaflet.awesome-markers.js%22%3E%3C/script%3E%0A%20%20%20%20%3Clink%20rel%3D%22stylesheet%22%20href%3D%22https%3A//cdn.jsdelivr.net/npm/leaflet%401.6.0/dist/leaflet.css%22/%3E%0A%20%20%20%20%3Clink%20rel%3D%22stylesheet%22%20href%3D%22https%3A//maxcdn.bootstrapcdn.com/bootstrap/3.2.0/css/bootstrap.min.css%22/%3E%0A%20%20%20%20%3Clink%20rel%3D%22stylesheet%22%20href%3D%22https%3A//maxcdn.bootstrapcdn.com/bootstrap/3.2.0/css/bootstrap-theme.min.css%22/%3E%0A%20%20%20%20%3Clink%20rel%3D%22stylesheet%22%20href%3D%22https%3A//maxcdn.bootstrapcdn.com/font-awesome/4.6.3/css/font-awesome.min.css%22/%3E%0A%20%20%20%20%3Clink%20rel%3D%22stylesheet%22%20href%3D%22https%3A//cdnjs.cloudflare.com/ajax/libs/Leaflet.awesome-markers/2.0.2/leaflet.awesome-markers.css%22/%3E%0A%20%20%20%20%3Clink%20rel%3D%22stylesheet%22%20href%3D%22https%3A//cdn.jsdelivr.net/gh/python-visualization/folium/folium/templates/leaflet.awesome.rotate.min.css%22/%3E%0A%20%20%20%20%0A%20%20%20%20%20%20%20%20%20%20%20%20%3Cmeta%20name%3D%22viewport%22%20content%3D%22width%3Ddevice-width%2C%0A%20%20%20%20%20%20%20%20%20%20%20%20%20%20%20%20initial-scale%3D1.0%2C%20maximum-scale%3D1.0%2C%20user-scalable%3Dno%22%20/%3E%0A%20%20%20%20%20%20%20%20%20%20%20%20%3Cstyle%3E%0A%20%20%20%20%20%20%20%20%20%20%20%20%20%20%20%20%23map_d1073a333d1b461391c9f10c3e17e70c%20%7B%0A%20%20%20%20%20%20%20%20%20%20%20%20%20%20%20%20%20%20%20%20position%3A%20relative%3B%0A%20%20%20%20%20%20%20%20%20%20%20%20%20%20%20%20%20%20%20%20width%3A%20100.0%25%3B%0A%20%20%20%20%20%20%20%20%20%20%20%20%20%20%20%20%20%20%20%20height%3A%20100.0%25%3B%0A%20%20%20%20%20%20%20%20%20%20%20%20%20%20%20%20%20%20%20%20left%3A%200.0%25%3B%0A%20%20%20%20%20%20%20%20%20%20%20%20%20%20%20%20%20%20%20%20top%3A%200.0%25%3B%0A%20%20%20%20%20%20%20%20%20%20%20%20%20%20%20%20%7D%0A%20%20%20%20%20%20%20%20%20%20%20%20%3C/style%3E%0A%20%20%20%20%20%20%20%20%0A%3C/head%3E%0A%3Cbody%3E%20%20%20%20%0A%20%20%20%20%0A%20%20%20%20%20%20%20%20%20%20%20%20%3Cdiv%20class%3D%22folium-map%22%20id%3D%22map_d1073a333d1b461391c9f10c3e17e70c%22%20%3E%3C/div%3E%0A%20%20%20%20%20%20%20%20%0A%3C/body%3E%0A%3Cscript%3E%20%20%20%20%0A%20%20%20%20%0A%20%20%20%20%20%20%20%20%20%20%20%20var%20map_d1073a333d1b461391c9f10c3e17e70c%20%3D%20L.map%28%0A%20%20%20%20%20%20%20%20%20%20%20%20%20%20%20%20%22map_d1073a333d1b461391c9f10c3e17e70c%22%2C%0A%20%20%20%20%20%20%20%20%20%20%20%20%20%20%20%20%7B%0A%20%20%20%20%20%20%20%20%20%20%20%20%20%20%20%20%20%20%20%20center%3A%20%5B41.26%2C%20-72.95%5D%2C%0A%20%20%20%20%20%20%20%20%20%20%20%20%20%20%20%20%20%20%20%20crs%3A%20L.CRS.EPSG3857%2C%0A%20%20%20%20%20%20%20%20%20%20%20%20%20%20%20%20%20%20%20%20zoom%3A%2013.3%2C%0A%20%20%20%20%20%20%20%20%20%20%20%20%20%20%20%20%20%20%20%20zoomControl%3A%20true%2C%0A%20%20%20%20%20%20%20%20%20%20%20%20%20%20%20%20%20%20%20%20preferCanvas%3A%20false%2C%0A%20%20%20%20%20%20%20%20%20%20%20%20%20%20%20%20%7D%0A%20%20%20%20%20%20%20%20%20%20%20%20%29%3B%0A%0A%20%20%20%20%20%20%20%20%20%20%20%20%0A%0A%20%20%20%20%20%20%20%20%0A%20%20%20%20%0A%20%20%20%20%20%20%20%20%20%20%20%20var%20tile_layer_4fff19e9dac34eef9073dee7d36b07e8%20%3D%20L.tileLayer%28%0A%20%20%20%20%20%20%20%20%20%20%20%20%20%20%20%20%22https%3A//%7Bs%7D.tile.openstreetmap.org/%7Bz%7D/%7Bx%7D/%7By%7D.png%22%2C%0A%20%20%20%20%20%20%20%20%20%20%20%20%20%20%20%20%7B%22attribution%22%3A%20%22Data%20by%20%5Cu0026copy%3B%20%5Cu003ca%20href%3D%5C%22http%3A//openstreetmap.org%5C%22%5Cu003eOpenStreetMap%5Cu003c/a%5Cu003e%2C%20under%20%5Cu003ca%20href%3D%5C%22http%3A//www.openstreetmap.org/copyright%5C%22%5Cu003eODbL%5Cu003c/a%5Cu003e.%22%2C%20%22detectRetina%22%3A%20false%2C%20%22maxNativeZoom%22%3A%2018%2C%20%22maxZoom%22%3A%2018%2C%20%22minZoom%22%3A%200%2C%20%22noWrap%22%3A%20false%2C%20%22opacity%22%3A%201%2C%20%22subdomains%22%3A%20%22abc%22%2C%20%22tms%22%3A%20false%7D%0A%20%20%20%20%20%20%20%20%20%20%20%20%29.addTo%28map_d1073a333d1b461391c9f10c3e17e70c%29%3B%0A%20%20%20%20%20%20%20%20%0A%20%20%20%20%0A%20%20%20%20%20%20%20%20%20%20%20%20var%20circle_marker_865caecafc094f29a4e077d9fef6e654%20%3D%20L.circleMarker%28%0A%20%20%20%20%20%20%20%20%20%20%20%20%20%20%20%20%5B41.2780115%2C%20-72.9477124%5D%2C%0A%20%20%20%20%20%20%20%20%20%20%20%20%20%20%20%20%7B%22bubblingMouseEvents%22%3A%20true%2C%20%22color%22%3A%20%22orange%22%2C%20%22dashArray%22%3A%20null%2C%20%22dashOffset%22%3A%20null%2C%20%22fill%22%3A%20true%2C%20%22fillColor%22%3A%20%22orange%22%2C%20%22fillOpacity%22%3A%200.2%2C%20%22fillRule%22%3A%20%22evenodd%22%2C%20%22lineCap%22%3A%20%22round%22%2C%20%22lineJoin%22%3A%20%22round%22%2C%20%22opacity%22%3A%201.0%2C%20%22radius%22%3A%2010%2C%20%22stroke%22%3A%20true%2C%20%22weight%22%3A%203%7D%0A%20%20%20%20%20%20%20%20%20%20%20%20%29.addTo%28map_d1073a333d1b461391c9f10c3e17e70c%29%3B%0A%20%20%20%20%20%20%20%20%0A%20%20%20%20%0A%20%20%20%20%20%20%20%20%20%20%20%20circle_marker_865caecafc094f29a4e077d9fef6e654.bindTooltip%28%0A%20%20%20%20%20%20%20%20%20%20%20%20%20%20%20%20%60%3Cdiv%3E%0A%20%20%20%20%20%20%20%20%20%20%20%20%20%20%20%20%20%20%20%20%20%3Cb%3Emom%27s%3C/b%3E%20%3Cbr%3E%20%3Cb%3ECategory%3A%3C/b%3E%20Literary%20Arts%2C%20Architecture%2C%20Culinary%20Arts%20%3Cbr%3E%3Cb%3EType%3A%3C/b%3E%20Performance%20Venue%20%3Cbr%3E%3Cb%3ELocation%3A%3C/b%3E%2018%204th%20ave%2C%20west%20haven%20ct%20%3Cbr%3E%3Cb%3ENotes%3A%3C/b%3E%20asdfgf%0A%20%20%20%20%20%20%20%20%20%20%20%20%20%20%20%20%20%3C/div%3E%60%2C%0A%20%20%20%20%20%20%20%20%20%20%20%20%20%20%20%20%7B%22sticky%22%3A%20true%7D%0A%20%20%20%20%20%20%20%20%20%20%20%20%29%3B%0A%20%20%20%20%20%20%20%20%0A%20%20%20%20%0A%20%20%20%20%20%20%20%20%20%20%20%20var%20circle_marker_e3c57c7dc1a34603a2310ec76666d4ee%20%3D%20L.circleMarker%28%0A%20%20%20%20%20%20%20%20%20%20%20%20%20%20%20%20%5B41.2783194%2C%20-72.948871%5D%2C%0A%20%20%20%20%20%20%20%20%20%20%20%20%20%20%20%20%7B%22bubblingMouseEvents%22%3A%20true%2C%20%22color%22%3A%20%22orange%22%2C%20%22dashArray%22%3A%20null%2C%20%22dashOffset%22%3A%20null%2C%20%22fill%22%3A%20true%2C%20%22fillColor%22%3A%20%22orange%22%2C%20%22fillOpacity%22%3A%200.2%2C%20%22fillRule%22%3A%20%22evenodd%22%2C%20%22lineCap%22%3A%20%22round%22%2C%20%22lineJoin%22%3A%20%22round%22%2C%20%22opacity%22%3A%201.0%2C%20%22radius%22%3A%2010%2C%20%22stroke%22%3A%20true%2C%20%22weight%22%3A%203%7D%0A%20%20%20%20%20%20%20%20%20%20%20%20%29.addTo%28map_d1073a333d1b461391c9f10c3e17e70c%29%3B%0A%20%20%20%20%20%20%20%20%0A%20%20%20%20%0A%20%20%20%20%20%20%20%20%20%20%20%20circle_marker_e3c57c7dc1a34603a2310ec76666d4ee.bindTooltip%28%0A%20%20%20%20%20%20%20%20%20%20%20%20%20%20%20%20%60%3Cdiv%3E%0A%20%20%20%20%20%20%20%20%20%20%20%20%20%20%20%20%20%20%20%20%20%3Cb%3Edad%27s%3C/b%3E%20%3Cbr%3E%20%3Cb%3ECategory%3A%3C/b%3E%20Visual%20Arts%2C%20Film%2C%20TV%2C%20Media%2C%20Technology%20%28gaming%2C%20web%3Cbr%3E%20design...%29%2C%20Graphic%20Design/Printmaking%20%3Cbr%3E%3Cb%3EType%3A%3C/b%3E%20Landmark/Public%20Space%20%3Cbr%3E%3Cb%3ELocation%3A%3C/b%3E%20379%20union%20ave%2C%20west%20haven%20ct%20%3Cbr%3E%3Cb%3ENotes%3A%3C/b%3E%20htds%0A%20%20%20%20%20%20%20%20%20%20%20%20%20%20%20%20%20%3C/div%3E%60%2C%0A%20%20%20%20%20%20%20%20%20%20%20%20%20%20%20%20%7B%22sticky%22%3A%20true%7D%0A%20%20%20%20%20%20%20%20%20%20%20%20%29%3B%0A%20%20%20%20%20%20%20%20%0A%20%20%20%20%0A%20%20%20%20%20%20%20%20%20%20%20%20var%20circle_marker_8b7539ea5e3b429494b218970083eb2a%20%3D%20L.circleMarker%28%0A%20%20%20%20%20%20%20%20%20%20%20%20%20%20%20%20%5B41.29047%2C%20-72.966523%5D%2C%0A%20%20%20%20%20%20%20%20%20%20%20%20%20%20%20%20%7B%22bubblingMouseEvents%22%3A%20true%2C%20%22color%22%3A%20%22orange%22%2C%20%22dashArray%22%3A%20null%2C%20%22dashOffset%22%3A%20null%2C%20%22fill%22%3A%20true%2C%20%22fillColor%22%3A%20%22orange%22%2C%20%22fillOpacity%22%3A%200.2%2C%20%22fillRule%22%3A%20%22evenodd%22%2C%20%22lineCap%22%3A%20%22round%22%2C%20%22lineJoin%22%3A%20%22round%22%2C%20%22opacity%22%3A%201.0%2C%20%22radius%22%3A%2010%2C%20%22stroke%22%3A%20true%2C%20%22weight%22%3A%203%7D%0A%20%20%20%20%20%20%20%20%20%20%20%20%29.addTo%28map_d1073a333d1b461391c9f10c3e17e70c%29%3B%0A%20%20%20%20%20%20%20%20%0A%20%20%20%20%0A%20%20%20%20%20%20%20%20%20%20%20%20circle_marker_8b7539ea5e3b429494b218970083eb2a.bindTooltip%28%0A%20%20%20%20%20%20%20%20%20%20%20%20%20%20%20%20%60%3Cdiv%3E%0A%20%20%20%20%20%20%20%20%20%20%20%20%20%20%20%20%20%20%20%20%20%3Cb%3EESUMS%3C/b%3E%20%3Cbr%3E%20%3Cb%3ECategory%3A%3C/b%3E%20Technology%20%28gaming%2C%20web%20design...%29%20%3Cbr%3E%3Cb%3EType%3A%3C/b%3E%20School/Education%20%3Cbr%3E%3Cb%3ELocation%3A%3C/b%3E%20500%20orange%20ave%2C%20west%20haven%20ct%20%3Cbr%3E%3Cb%3ENotes%3A%3C/b%3E%20my%20school%0A%20%20%20%20%20%20%20%20%20%20%20%20%20%20%20%20%20%3C/div%3E%60%2C%0A%20%20%20%20%20%20%20%20%20%20%20%20%20%20%20%20%7B%22sticky%22%3A%20true%7D%0A%20%20%20%20%20%20%20%20%20%20%20%20%29%3B%0A%20%20%20%20%20%20%20%20%0A%3C/script%3E onload=\"this.contentDocument.open();this.contentDocument.write(    decodeURIComponent(this.getAttribute('data-html')));this.contentDocument.close();\" allowfullscreen webkitallowfullscreen mozallowfullscreen></iframe></div></div>"
      ],
      "text/plain": [
       "<folium.folium.Map at 0x10471f190>"
      ]
     },
     "execution_count": 28,
     "metadata": {},
     "output_type": "execute_result"
    }
   ],
   "source": [
    "base_map"
   ]
  },
  {
   "cell_type": "code",
   "execution_count": null,
   "metadata": {},
   "outputs": [],
   "source": []
  }
 ],
 "metadata": {
  "kernelspec": {
   "display_name": "Python 3",
   "language": "python",
   "name": "python3"
  },
  "language_info": {
   "codemirror_mode": {
    "name": "ipython",
    "version": 3
   },
   "file_extension": ".py",
   "mimetype": "text/x-python",
   "name": "python",
   "nbconvert_exporter": "python",
   "pygments_lexer": "ipython3",
   "version": "3.8.5"
  }
 },
 "nbformat": 4,
 "nbformat_minor": 4
}
